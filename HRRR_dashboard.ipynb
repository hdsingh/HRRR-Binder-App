{
 "cells": [
  {
   "cell_type": "markdown",
   "metadata": {},
   "source": [
    "# HRRR Dashboard\n",
    "The High Resolution Rapid Refresh (HRRR, pronouned \"her\") is the highest resolution (2.5km) weather forecast for the entire Continental USA.  Here we investigate the gridded HRRR forecast data products from [Unidata's THREDDS server](http://thredds.ucar.edu) and visualizing the data using [XrViz](https://github.com/intake/xrviz)."
   ]
  },
  {
   "cell_type": "code",
   "execution_count": null,
   "metadata": {
    "ExecuteTime": {
     "end_time": "2019-07-18T04:51:44.351851Z",
     "start_time": "2019-07-18T04:51:40.403710Z"
    }
   },
   "outputs": [],
   "source": [
    "import xarray as xr\n",
    "from xrviz.dashboard import Dashboard"
   ]
  },
  {
   "cell_type": "code",
   "execution_count": null,
   "metadata": {
    "ExecuteTime": {
     "end_time": "2019-07-18T04:51:53.391142Z",
     "start_time": "2019-07-18T04:51:44.354206Z"
    }
   },
   "outputs": [],
   "source": [
    "# Load the data\n",
    "url = 'http://thredds-jetstream.unidata.ucar.edu/thredds/dodsC/grib/NCEP/HRRR/CONUS_2p5km/Best'\n",
    "data = xr.open_dataset(url)"
   ]
  },
  {
   "cell_type": "code",
   "execution_count": null,
   "metadata": {
    "ExecuteTime": {
     "end_time": "2019-07-18T04:51:53.396794Z",
     "start_time": "2019-07-18T04:51:53.393024Z"
    }
   },
   "outputs": [],
   "source": [
    "# Convert from Kms to meters\n",
    "data['x'].values = data['x'].values*1000.\n",
    "data['y'].values = data['y'].values*1000."
   ]
  },
  {
   "cell_type": "markdown",
   "metadata": {},
   "source": [
    "We can pass parameters to initialise the widgets in the dashboard."
   ]
  },
  {
   "cell_type": "code",
   "execution_count": null,
   "metadata": {
    "ExecuteTime": {
     "end_time": "2019-07-18T04:51:53.407609Z",
     "start_time": "2019-07-18T04:51:53.400400Z"
    }
   },
   "outputs": [],
   "source": [
    "initial_params = {'Variables': 'Temperature_height_above_ground',\n",
    "                  'cmap': 'Viridis',\n",
    "                  'is_geo': True,\n",
    "                  'basemap': 'OSM',\n",
    "                  'crs': 'LambertConformal',\n",
    "                  'crs params': \"{'central_longitude': 265.0,'central_latitude': 25.0, 'standard_parallels': (25.0, 25.0), 'globe': {'ellipse':'sphere', 'semimajor_axis':6371229.0}}\",\n",
    "                  'projection': 'Orthographic',\n",
    "                  'projection params': \"{'central_longitude': -100,'central_latitude':55}\"}                                                                                                          "
   ]
  },
  {
   "cell_type": "code",
   "execution_count": null,
   "metadata": {
    "ExecuteTime": {
     "end_time": "2019-07-18T04:51:53.989073Z",
     "start_time": "2019-07-18T04:51:53.408964Z"
    }
   },
   "outputs": [],
   "source": [
    "dash = Dashboard(data, initial_params=initial_params)\n",
    "dash.panel.servable()"
   ]
  }
 ],
 "metadata": {
  "kernelspec": {
   "display_name": "Python 3",
   "language": "python",
   "name": "python3"
  },
  "language_info": {
   "codemirror_mode": {
    "name": "ipython",
    "version": 3
   },
   "file_extension": ".py",
   "mimetype": "text/x-python",
   "name": "python",
   "nbconvert_exporter": "python",
   "pygments_lexer": "ipython3",
   "version": "3.7.3"
  }
 },
 "nbformat": 4,
 "nbformat_minor": 4
}
